{
 "cells": [
  {
   "cell_type": "code",
   "execution_count": 3,
   "id": "third-system",
   "metadata": {},
   "outputs": [],
   "source": [
    "import pandas as pd\n",
    "import numpy as np\n",
    "from sklearn.model_selection import train_test_split\n",
    "from sklearn.linear_model import LinearRegression"
   ]
  },
  {
   "cell_type": "code",
   "execution_count": 4,
   "id": "french-level",
   "metadata": {},
   "outputs": [],
   "source": [
    "# Carrega o dataset\n",
    "dataset = pd.read_csv(\"model_input.csv\")"
   ]
  },
  {
   "cell_type": "code",
   "execution_count": 5,
   "id": "first-elephant",
   "metadata": {},
   "outputs": [],
   "source": [
    "# Vamos chamar de features as variáveis que queremos usar\n",
    "# Vamos chamar de y o que queremos prever\n",
    "X = dataset[[\"area_limpo\", \"bathrooms_limpo\", \"rooms_limpo\", \"condo_limpo\", \"garages_limpo\"]]\n",
    "y = dataset[\"price_limpo\"]"
   ]
  },
  {
   "cell_type": "code",
   "execution_count": 6,
   "id": "convertible-assumption",
   "metadata": {},
   "outputs": [],
   "source": [
    "# Train test split, vamos embaralhar os dados guardar 20% dos dados para teste\n",
    "X_train, X_test, y_train, y_test = train_test_split(X, y, test_size=.20, random_state=12345, shuffle=True)"
   ]
  },
  {
   "cell_type": "code",
   "execution_count": 7,
   "id": "popular-organ",
   "metadata": {},
   "outputs": [
    {
     "data": {
      "text/plain": [
       "(12137, 5)"
      ]
     },
     "execution_count": 7,
     "metadata": {},
     "output_type": "execute_result"
    }
   ],
   "source": [
    "X.shape"
   ]
  },
  {
   "cell_type": "code",
   "execution_count": 8,
   "id": "dramatic-patrol",
   "metadata": {},
   "outputs": [
    {
     "data": {
      "text/plain": [
       "(9709, 5)"
      ]
     },
     "execution_count": 8,
     "metadata": {},
     "output_type": "execute_result"
    }
   ],
   "source": [
    "X_train.shape"
   ]
  },
  {
   "cell_type": "code",
   "execution_count": 9,
   "id": "direct-defendant",
   "metadata": {},
   "outputs": [
    {
     "data": {
      "text/plain": [
       "(2428, 5)"
      ]
     },
     "execution_count": 9,
     "metadata": {},
     "output_type": "execute_result"
    }
   ],
   "source": [
    "X_test.shape"
   ]
  },
  {
   "cell_type": "code",
   "execution_count": 11,
   "id": "bottom-desperate",
   "metadata": {},
   "outputs": [
    {
     "data": {
      "text/html": [
       "<div>\n",
       "<style scoped>\n",
       "    .dataframe tbody tr th:only-of-type {\n",
       "        vertical-align: middle;\n",
       "    }\n",
       "\n",
       "    .dataframe tbody tr th {\n",
       "        vertical-align: top;\n",
       "    }\n",
       "\n",
       "    .dataframe thead th {\n",
       "        text-align: right;\n",
       "    }\n",
       "</style>\n",
       "<table border=\"1\" class=\"dataframe\">\n",
       "  <thead>\n",
       "    <tr style=\"text-align: right;\">\n",
       "      <th></th>\n",
       "      <th>area_limpo</th>\n",
       "      <th>bathrooms_limpo</th>\n",
       "      <th>rooms_limpo</th>\n",
       "      <th>condo_limpo</th>\n",
       "      <th>garages_limpo</th>\n",
       "    </tr>\n",
       "  </thead>\n",
       "  <tbody>\n",
       "    <tr>\n",
       "      <th>0</th>\n",
       "      <td>64</td>\n",
       "      <td>2.0</td>\n",
       "      <td>2.0</td>\n",
       "      <td>778.0</td>\n",
       "      <td>1.0</td>\n",
       "    </tr>\n",
       "    <tr>\n",
       "      <th>1</th>\n",
       "      <td>83</td>\n",
       "      <td>3.0</td>\n",
       "      <td>2.0</td>\n",
       "      <td>600.0</td>\n",
       "      <td>2.0</td>\n",
       "    </tr>\n",
       "    <tr>\n",
       "      <th>2</th>\n",
       "      <td>75</td>\n",
       "      <td>2.0</td>\n",
       "      <td>3.0</td>\n",
       "      <td>717.0</td>\n",
       "      <td>1.0</td>\n",
       "    </tr>\n",
       "    <tr>\n",
       "      <th>3</th>\n",
       "      <td>47</td>\n",
       "      <td>2.0</td>\n",
       "      <td>1.0</td>\n",
       "      <td>463.0</td>\n",
       "      <td>1.0</td>\n",
       "    </tr>\n",
       "    <tr>\n",
       "      <th>4</th>\n",
       "      <td>67</td>\n",
       "      <td>2.0</td>\n",
       "      <td>2.0</td>\n",
       "      <td>778.0</td>\n",
       "      <td>1.0</td>\n",
       "    </tr>\n",
       "    <tr>\n",
       "      <th>5</th>\n",
       "      <td>131</td>\n",
       "      <td>5.0</td>\n",
       "      <td>3.0</td>\n",
       "      <td>950.0</td>\n",
       "      <td>2.0</td>\n",
       "    </tr>\n",
       "    <tr>\n",
       "      <th>6</th>\n",
       "      <td>49</td>\n",
       "      <td>2.0</td>\n",
       "      <td>1.0</td>\n",
       "      <td>648.0</td>\n",
       "      <td>1.0</td>\n",
       "    </tr>\n",
       "    <tr>\n",
       "      <th>7</th>\n",
       "      <td>56</td>\n",
       "      <td>2.0</td>\n",
       "      <td>1.0</td>\n",
       "      <td>502.0</td>\n",
       "      <td>0.0</td>\n",
       "    </tr>\n",
       "    <tr>\n",
       "      <th>8</th>\n",
       "      <td>110</td>\n",
       "      <td>2.0</td>\n",
       "      <td>3.0</td>\n",
       "      <td>700.0</td>\n",
       "      <td>2.0</td>\n",
       "    </tr>\n",
       "    <tr>\n",
       "      <th>9</th>\n",
       "      <td>157</td>\n",
       "      <td>5.0</td>\n",
       "      <td>3.0</td>\n",
       "      <td>1550.0</td>\n",
       "      <td>2.0</td>\n",
       "    </tr>\n",
       "  </tbody>\n",
       "</table>\n",
       "</div>"
      ],
      "text/plain": [
       "   area_limpo  bathrooms_limpo  rooms_limpo  condo_limpo  garages_limpo\n",
       "0          64              2.0          2.0        778.0            1.0\n",
       "1          83              3.0          2.0        600.0            2.0\n",
       "2          75              2.0          3.0        717.0            1.0\n",
       "3          47              2.0          1.0        463.0            1.0\n",
       "4          67              2.0          2.0        778.0            1.0\n",
       "5         131              5.0          3.0        950.0            2.0\n",
       "6          49              2.0          1.0        648.0            1.0\n",
       "7          56              2.0          1.0        502.0            0.0\n",
       "8         110              2.0          3.0        700.0            2.0\n",
       "9         157              5.0          3.0       1550.0            2.0"
      ]
     },
     "execution_count": 11,
     "metadata": {},
     "output_type": "execute_result"
    }
   ],
   "source": [
    "X[:10]"
   ]
  },
  {
   "cell_type": "code",
   "execution_count": 12,
   "id": "cutting-catering",
   "metadata": {},
   "outputs": [
    {
     "data": {
      "text/html": [
       "<div>\n",
       "<style scoped>\n",
       "    .dataframe tbody tr th:only-of-type {\n",
       "        vertical-align: middle;\n",
       "    }\n",
       "\n",
       "    .dataframe tbody tr th {\n",
       "        vertical-align: top;\n",
       "    }\n",
       "\n",
       "    .dataframe thead th {\n",
       "        text-align: right;\n",
       "    }\n",
       "</style>\n",
       "<table border=\"1\" class=\"dataframe\">\n",
       "  <thead>\n",
       "    <tr style=\"text-align: right;\">\n",
       "      <th></th>\n",
       "      <th>area_limpo</th>\n",
       "      <th>bathrooms_limpo</th>\n",
       "      <th>rooms_limpo</th>\n",
       "      <th>condo_limpo</th>\n",
       "      <th>garages_limpo</th>\n",
       "    </tr>\n",
       "  </thead>\n",
       "  <tbody>\n",
       "    <tr>\n",
       "      <th>11278</th>\n",
       "      <td>44</td>\n",
       "      <td>1.0</td>\n",
       "      <td>2.0</td>\n",
       "      <td>220.0</td>\n",
       "      <td>0.0</td>\n",
       "    </tr>\n",
       "    <tr>\n",
       "      <th>8520</th>\n",
       "      <td>72</td>\n",
       "      <td>2.0</td>\n",
       "      <td>2.0</td>\n",
       "      <td>450.0</td>\n",
       "      <td>1.0</td>\n",
       "    </tr>\n",
       "    <tr>\n",
       "      <th>2045</th>\n",
       "      <td>41</td>\n",
       "      <td>1.0</td>\n",
       "      <td>1.0</td>\n",
       "      <td>350.0</td>\n",
       "      <td>0.0</td>\n",
       "    </tr>\n",
       "    <tr>\n",
       "      <th>10087</th>\n",
       "      <td>64</td>\n",
       "      <td>2.0</td>\n",
       "      <td>2.0</td>\n",
       "      <td>580.0</td>\n",
       "      <td>1.0</td>\n",
       "    </tr>\n",
       "    <tr>\n",
       "      <th>10525</th>\n",
       "      <td>52</td>\n",
       "      <td>1.0</td>\n",
       "      <td>2.0</td>\n",
       "      <td>380.0</td>\n",
       "      <td>1.0</td>\n",
       "    </tr>\n",
       "    <tr>\n",
       "      <th>1895</th>\n",
       "      <td>77</td>\n",
       "      <td>2.0</td>\n",
       "      <td>1.0</td>\n",
       "      <td>590.0</td>\n",
       "      <td>0.0</td>\n",
       "    </tr>\n",
       "    <tr>\n",
       "      <th>6714</th>\n",
       "      <td>61</td>\n",
       "      <td>2.0</td>\n",
       "      <td>2.0</td>\n",
       "      <td>600.0</td>\n",
       "      <td>1.0</td>\n",
       "    </tr>\n",
       "    <tr>\n",
       "      <th>2610</th>\n",
       "      <td>57</td>\n",
       "      <td>1.0</td>\n",
       "      <td>2.0</td>\n",
       "      <td>450.0</td>\n",
       "      <td>1.0</td>\n",
       "    </tr>\n",
       "    <tr>\n",
       "      <th>4283</th>\n",
       "      <td>253</td>\n",
       "      <td>5.0</td>\n",
       "      <td>4.0</td>\n",
       "      <td>1860.0</td>\n",
       "      <td>2.0</td>\n",
       "    </tr>\n",
       "    <tr>\n",
       "      <th>6095</th>\n",
       "      <td>102</td>\n",
       "      <td>3.0</td>\n",
       "      <td>3.0</td>\n",
       "      <td>816.0</td>\n",
       "      <td>2.0</td>\n",
       "    </tr>\n",
       "  </tbody>\n",
       "</table>\n",
       "</div>"
      ],
      "text/plain": [
       "       area_limpo  bathrooms_limpo  rooms_limpo  condo_limpo  garages_limpo\n",
       "11278          44              1.0          2.0        220.0            0.0\n",
       "8520           72              2.0          2.0        450.0            1.0\n",
       "2045           41              1.0          1.0        350.0            0.0\n",
       "10087          64              2.0          2.0        580.0            1.0\n",
       "10525          52              1.0          2.0        380.0            1.0\n",
       "1895           77              2.0          1.0        590.0            0.0\n",
       "6714           61              2.0          2.0        600.0            1.0\n",
       "2610           57              1.0          2.0        450.0            1.0\n",
       "4283          253              5.0          4.0       1860.0            2.0\n",
       "6095          102              3.0          3.0        816.0            2.0"
      ]
     },
     "execution_count": 12,
     "metadata": {},
     "output_type": "execute_result"
    }
   ],
   "source": [
    "X_train[:10]"
   ]
  },
  {
   "cell_type": "code",
   "execution_count": 13,
   "id": "bronze-orientation",
   "metadata": {},
   "outputs": [
    {
     "data": {
      "text/plain": [
       "11278    168095.0\n",
       "8520     485000.0\n",
       "2045     350000.0\n",
       "10087    360000.0\n",
       "10525    265000.0\n",
       "           ...   \n",
       "11689    380000.0\n",
       "3492     389990.0\n",
       "2177     290000.0\n",
       "11749    260000.0\n",
       "4578     890000.0\n",
       "Name: price_limpo, Length: 9709, dtype: float64"
      ]
     },
     "execution_count": 13,
     "metadata": {},
     "output_type": "execute_result"
    }
   ],
   "source": [
    "y_train"
   ]
  },
  {
   "cell_type": "code",
   "execution_count": 11,
   "id": "isolated-romance",
   "metadata": {},
   "outputs": [],
   "source": [
    "# Vamos fazer uma regressao linear simples:\n",
    "# w1*area + w2*banheiro + w3*quartos + w4*condo + w5*garagem = preco_previsto\n",
    "# onde cada w é o peso que vamos dar para cada uma das variáveis\n",
    "# Como nos vamos prever um preço e sabemos o preço real, podemos calcular o erro\n",
    "# O objetivo do nosso aprendizado é encontrar os pesos que minimizam esse erro!"
   ]
  },
  {
   "cell_type": "code",
   "execution_count": 12,
   "id": "visible-china",
   "metadata": {},
   "outputs": [],
   "source": [
    "# Vamos criar uma regressão simples\n",
    "model = LinearRegression(fit_intercept=False)"
   ]
  },
  {
   "cell_type": "code",
   "execution_count": 13,
   "id": "junior-maria",
   "metadata": {},
   "outputs": [
    {
     "data": {
      "text/plain": [
       "LinearRegression(fit_intercept=False)"
      ]
     },
     "execution_count": 13,
     "metadata": {},
     "output_type": "execute_result"
    }
   ],
   "source": [
    "# Aplicar aos nossos dados de treino:\n",
    "model.fit(X_train, y_train)"
   ]
  },
  {
   "cell_type": "code",
   "execution_count": 14,
   "id": "polished-burlington",
   "metadata": {},
   "outputs": [],
   "source": [
    "# Vamos prever nos nossos dados de treino e de teste e comparar o error médio\n",
    "y_pred_train = model.predict(X_train)\n",
    "y_pred_test = model.predict(X_test)"
   ]
  },
  {
   "cell_type": "code",
   "execution_count": 16,
   "id": "tracked-dancing",
   "metadata": {},
   "outputs": [
    {
     "data": {
      "text/plain": [
       "0.26984243749508163"
      ]
     },
     "execution_count": 16,
     "metadata": {},
     "output_type": "execute_result"
    }
   ],
   "source": [
    "# Erro médio percentual do treino\n",
    "# Vamos calcular o erro percentual como sendo : (y real - y previsto)/y real\n",
    "# Como não queremos que o positivo anule o negativo, vamos pegar o valor absoluto\n",
    "# Vamos pegar a média deles\n",
    "np.mean(np.abs(y_train - y_pred_train)/y_train)"
   ]
  },
  {
   "cell_type": "code",
   "execution_count": 18,
   "id": "structured-reasoning",
   "metadata": {},
   "outputs": [
    {
     "data": {
      "text/plain": [
       "0.2730208848721318"
      ]
     },
     "execution_count": 18,
     "metadata": {},
     "output_type": "execute_result"
    }
   ],
   "source": [
    "# O mesmo mas agora para teste e comparamos para ver se são comparáveis. \n",
    "np.mean(np.abs(y_test - y_pred_test)/y_test)"
   ]
  },
  {
   "cell_type": "code",
   "execution_count": 19,
   "id": "handed-comparison",
   "metadata": {},
   "outputs": [
    {
     "data": {
      "text/plain": [
       "array([   6742.96057555,   63460.06119565, -163901.34581316,\n",
       "           546.11546263,   45021.9690481 ])"
      ]
     },
     "execution_count": 19,
     "metadata": {},
     "output_type": "execute_result"
    }
   ],
   "source": [
    "# Coeficientes do modelo (\"peso\" calculado para cada variável)\n",
    "model.coef_"
   ]
  },
  {
   "cell_type": "code",
   "execution_count": null,
   "id": "exposed-reserve",
   "metadata": {},
   "outputs": [],
   "source": []
  }
 ],
 "metadata": {
  "kernelspec": {
   "display_name": "Python 3",
   "language": "python",
   "name": "python3"
  },
  "language_info": {
   "codemirror_mode": {
    "name": "ipython",
    "version": 3
   },
   "file_extension": ".py",
   "mimetype": "text/x-python",
   "name": "python",
   "nbconvert_exporter": "python",
   "pygments_lexer": "ipython3",
   "version": "3.8.0"
  }
 },
 "nbformat": 4,
 "nbformat_minor": 5
}
